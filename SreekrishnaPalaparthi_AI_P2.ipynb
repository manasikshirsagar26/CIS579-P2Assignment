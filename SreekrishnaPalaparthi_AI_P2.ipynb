{
 "cells": [
  {
   "cell_type": "code",
   "execution_count": 10,
   "metadata": {},
   "outputs": [],
   "source": [
    "import numpy as np\n",
    "import random"
   ]
  },
  {
   "cell_type": "code",
   "execution_count": 11,
   "metadata": {},
   "outputs": [
    {
     "name": "stdout",
     "output_type": "stream",
     "text": [
      "I love you mani\n"
     ]
    }
   ],
   "source": [
    "print(\"I love you mani\")"
   ]
  },
  {
   "cell_type": "code",
   "execution_count": 12,
   "metadata": {},
   "outputs": [
    {
     "name": "stdout",
     "output_type": "stream",
     "text": [
      "1.19.2\n"
     ]
    }
   ],
   "source": [
    "import numpy as np\n",
    "print(np.__version__)"
   ]
  },
  {
   "cell_type": "code",
   "execution_count": 13,
   "metadata": {},
   "outputs": [],
   "source": [
    "## step-1: finding out the allowed positions\n",
    "\n",
    "row = [0,1,2,3,4,5]\n",
    "col = [0,1,2,3,4,5,6]\n",
    "\n",
    "start_matrix = np.array([2.63,2.63,2.63,2.63,2.63,2.63,2.63,\n",
    "                           2.63,0 ,2.63,2.63,0 ,2.63,2.63,\n",
    "                           2.63,2.63,2.63,2.63,2.63,2.63,2.63,\n",
    "                           2.63,0 ,2.63,2.63,0 ,2.63,2.63,\n",
    "                           2.63,2.63,2.63,2.63,2.63,2.63,2.63,\n",
    "                           2.63,2.63,2.63,2.63,2.63,2.63,2.63]).reshape(6,7)\n",
    "\n",
    "def allowed_path(i,j):\n",
    "    main_path = []\n",
    "    \n",
    "\n",
    "            \n",
    "    ## westside\n",
    "    path = []\n",
    "    if ((j == 0 and i >=0) or (i == 1 and j == 2) or (i == 1 and j == 5) or (i == 3 and j == 2) or (i == 3 and j == 5)):\n",
    "        path.append(1)\n",
    "    else:\n",
    "        path.append(0)\n",
    "    ## Northside\n",
    "    if ((i==0 and j >=0) or (i==2 and j== 1) or (i == 2 and j == 4) or (i == 4 and j == 1) or (i == 4 and j == 4)):\n",
    "        path.append(1)\n",
    "    else:\n",
    "        path.append(0)\n",
    "     ## Eastside:\n",
    "    if ( (i == 1 and j == 0) or (i == 1 and j == 3) or (i>=0 and j == 6) or (i == 3 and j == 0) or (i == 3 and j == 3) ):\n",
    "        path.append(1)\n",
    "    else:\n",
    "        path.append(0)\n",
    "    ## Southside\n",
    "    if ((i == 0 and j == 1) or (i == 0 and j == 4) or (i == 2 and j == 1) or (i == 2 and j== 4) or (i== 5 and j>=0)   ):\n",
    "        path.append(1)\n",
    "    else:\n",
    "        path.append(0)\n",
    "    #             print(i,j)\n",
    "    return path\n",
    "\n",
    "\n",
    "\n",
    "start_matrix = np.array([2.63,2.63,2.63,2.63,2.63,2.63,2.63,\n",
    "                           2.63,0 ,2.63,2.63,0 ,2.63,2.63,\n",
    "                           2.63,2.63,2.63,2.63,2.63,2.63,2.63,\n",
    "                           2.63,0 ,2.63,2.63,0 ,2.63,2.63,\n",
    "                           2.63,2.63,2.63,2.63,2.63,2.63,2.63,\n",
    "                           2.63,2.63,2.63,2.63,2.63,2.63,2.63]).reshape(6,7)\n",
    "\n",
    "## step-2: Sensor, finding out the location based on the given evidence:\n",
    "\n",
    "def sensor_evidence (evidence_path):\n",
    "    P_Obstable_not_detect = 0.2\n",
    "    P_Obstacle_Detect = 0.8\n",
    "    P_Open_Sq_Obstacle = 0.15\n",
    "    P_Open_Sq_Open_Sq = 0.85\n",
    "    \n",
    "    \n",
    "\n",
    "    next_path = evidence_path\n",
    "    # next_path = [0,0,0,0]\n",
    "\n",
    "    row = [0,1,2,3,4,5]\n",
    "    col = [0,1,2,3,4,5,6]\n",
    "\n",
    "    total_prob_onecell = []\n",
    "    #actual_path = allowed_path(i,j)\n",
    "    # actual_path = allowed_path(0,1)\n",
    "    # print(actual_path)\n",
    "\n",
    "    sum_sensor_all_direction = []\n",
    "\n",
    "\n",
    "\n",
    "    for i in [0,1,2,3,4,5]:\n",
    "        for j in [0,1,2,3,4,5,6] :\n",
    "    #         sum_sensor_all_direction = 0\n",
    "            actual_path = allowed_path(i,j)\n",
    "\n",
    "\n",
    "\n",
    "            total_prob_all_dir = []\n",
    "            prob_percell_all_dir = []\n",
    "            if ((i == 1 and j == 1) or (i==1 and j ==4) or (i==3 and j ==1 ) or (i==3 and j==4)):\n",
    "                prob_percell_all_dir.append(0)\n",
    "\n",
    "            else:\n",
    "                for k in [0,1,2,3]:\n",
    "                    if (actual_path[k]== 0 and next_path[k]==0):\n",
    "                        prob_percell_all_dir.append(0.85)\n",
    "                    if (actual_path[k]== 1 and next_path[k]==0):\n",
    "                        prob_percell_all_dir.append(0.2)\n",
    "                    if (actual_path[k]== 0 and next_path[k]==1):\n",
    "                        prob_percell_all_dir.append(0.15)\n",
    "                    if (actual_path[k]== 1 and next_path[k]==1):\n",
    "                        prob_percell_all_dir.append(0.8)\n",
    "            ########print(i, j, prob_percell_all_dir, start_matrix[i,j])\n",
    "\n",
    "            total_prob_all_dir = ((np.prod(prob_percell_all_dir) * start_matrix[i,j]).round(5))\n",
    "\n",
    "    #         sum_sensor_all_direction = sum_sensor_all_direction + int(sensor_all_direction)\n",
    "\n",
    "            sum_sensor_all_direction.append(total_prob_all_dir)\n",
    "\n",
    "\n",
    "    sensor_probability = []\n",
    "    for value in sum_sensor_all_direction:\n",
    "        sensor_probability.append((value*100/np.sum(sum_sensor_all_direction)).round(2))\n",
    "    Evidence_Probability = sensor_probability\n",
    "\n",
    "    Evidence_matrix = np.matrix(Evidence_Probability).reshape(6,7)\n",
    "    return Evidence_matrix\n",
    "    \n",
    "    \n",
    "    \n",
    "\n",
    "## Step-3: Finding out the Prediction for next step.. based on the previous state\n",
    "\n",
    "\n",
    "def moving_north(previous_evidence):\n",
    "    row = [1,2,3,4,5,6]\n",
    "    col = [1,2,3,4,5,6,7]\n",
    "    \n",
    "#     Evidence_matrix = sensor_evidence(previous_evidence)\n",
    "\n",
    "    motion_prob_allcells = []\n",
    "    for i in [0,1,2,3,4,5]:\n",
    "        for j in [0,1,2,3,4,5,6]:\n",
    "#             print('i,j = ',i,j)\n",
    "            if ((i==1 and j==1) or (i==1 and j==4) or (i==3 and j==1) or (i==3 and j==4)):\n",
    "                motion_prob_onecell = 0\n",
    "                #####print(motion_prob_onecell)\n",
    "                motion_prob_allcells.append(motion_prob_onecell)\n",
    "                continue\n",
    "            else:\n",
    "\n",
    "                prob_calculation = []\n",
    "                next_paths = []\n",
    "                nextt = ()\n",
    "\n",
    "                # p_w = Evidence_matrix[i,j-1]\n",
    "                # p_n = Evidence_matrix[i-1,j]\n",
    "                # p_e = Evidence_matrix[i1,j+1]\n",
    "                # p_s = Evidence_matrix[i+1,j]\n",
    "\n",
    "\n",
    "                ## get the target positions \n",
    "                ## from West\n",
    "                 # if boundary\n",
    "                if (i in range(0,7) and j-1 < 0)  or (i==1 and j-1==1) or (i==1 and j-1==4) or(i==3 and j-1==1) or (i==3 and j-1==4): \n",
    "                    nextt =(i,j)\n",
    "                # if not a boundary\n",
    "                elif (i in range(0,7) and j-1>=0 ):\n",
    "                    nextt = (i, j-1)\n",
    "                next_paths.append(nextt)\n",
    "\n",
    "                ## from North\n",
    "                if (i in range(0,6) and j in range(0,7)):\n",
    "                    nextt = (i,j)\n",
    "                # elif(i-1>=0 and j in range(0,7)):\n",
    "                next_paths.append(nextt)\n",
    "\n",
    "                ## from east\n",
    "                if (i in range(0,7) and j+1>=7) or (i==1 and j+1==1) or (i==1 and j+1==4) or(i==3 and j+1==1) or (i==3 and j+1==4):\n",
    "                    nextt = (i,j)\n",
    "                elif(i in range(0,7) and j+1<=6):\n",
    "                    nextt=(i,j+1)\n",
    "                next_paths.append(nextt)\n",
    "\n",
    "                ## from south\n",
    "                if(i+1>=6 and j in range(0,7)) or (i+1==3 and j==4) or (i+1==3 and j==1) or (i+1==1 and j==1) or (i+1==1 and j==4):\n",
    "                    nextt = (i,j)\n",
    "                elif(i+1<6 and j in range(0,7)) and (i<=5 and j in range(0,7)):\n",
    "                    nextt = (i+1,j)\n",
    "                next_paths.append(nextt)\n",
    "\n",
    "\n",
    "                ### get the target values\n",
    "                target_prob = []\n",
    "\n",
    "                ## from west\n",
    "                if (i in range(0,7) ):\n",
    "                    target_prob.append(0.1)\n",
    "                ## from North\n",
    "                # \n",
    "                if (i==0 and j in range(0,7)) or (i-1==1 and j ==1) or (i-1==1 and j==4) or(i-1==3 and j==1) or (i-1==3 and j==4):\n",
    "                    target_prob.append(0.8)\n",
    "                else:\n",
    "                    target_prob.append(0)\n",
    "                ## from east\n",
    "                if(i in range(0,7)):\n",
    "                    target_prob.append(0.1)\n",
    "                ## from south\n",
    "                # or (i+1==3 and j==4) or (i+1==3 and j==1) or (i+1==1 and j==1) or (i+1==1 and j==4)\n",
    "                if(i==5 and j in range(0,7)) or (i+1==3 and j==4) or (i+1==3 and j==1) or (i+1==1 and j==1) or (i+1==1 and j==4):\n",
    "                    target_prob.append(0)\n",
    "                else:\n",
    "                    target_prob.append(0.8)\n",
    "\n",
    "\n",
    "\n",
    "                Evidence_matrix[next_paths[0][0],next_paths[0][1]]\n",
    "                motion_prob_onecell = 0\n",
    "            for k in [0,1,2,3]:\n",
    "                motion_prob_onecell = ((motion_prob_onecell+ Evidence_matrix[next_paths[k][0],next_paths[k][1]] * target_prob[k]).round(3))\n",
    "            motion_prob_allcells.append(motion_prob_onecell)\n",
    "            #####print('motion_prob_onecell: ',motion_prob_onecell)\n",
    "#             \n",
    "    motion_prob = np.matrix(motion_prob_allcells).reshape(6,7)\n",
    "    start_matrix = motion_prob\n",
    "    return start_matrix\n",
    "\n",
    "\n",
    "## step-3: def moving_west(previous_evidence):\n",
    "\n",
    "def moving_west(previous_evidence):\n",
    "    motion_prob_allcells = []\n",
    "    for i in [0,1,2,3,4,5]:\n",
    "        for j in [0,1,2,3,4,5,6]:\n",
    "#             print('i,j = ',i,j)\n",
    "            if ((i==1 and j==1) or (i==1 and j==4) or (i==3 and j==1) or (i==3 and j==4)):\n",
    "                motion_prob_onecell = 0\n",
    "                #######print(motion_prob_onecell)\n",
    "                motion_prob_allcells.append(motion_prob_onecell)\n",
    "                continue\n",
    "            else:\n",
    "\n",
    "                prob_calculation = []\n",
    "                next_paths = []\n",
    "                nextt = ()\n",
    "\n",
    "                # p_w = Evidence_matrix[i,j-1]\n",
    "                # p_n = Evidence_matrix[i-1,j]\n",
    "                # p_e = Evidence_matrix[i1,j+1]\n",
    "                # p_s = Evidence_matrix[i+1,j]\n",
    "\n",
    "\n",
    "                ## get the target positions \n",
    "                ## from West\n",
    "                 # if boundary\n",
    "                if(i in range(0,7) and j in range(0,7)):\n",
    "                    nextt=(i,j)\n",
    "                next_paths.append(nextt)\n",
    "\n",
    "    ## from North\n",
    "                if (j in range (0,7) and i-1<0) or (i-1==1 and j==1) or (i-1==1 and j==4) or (i-1==3 and j==1) or (i-1==3 and j==4):\n",
    "                    nextt=(i,j)\n",
    "                elif(i-1>=0 and j in range(0,7)):\n",
    "                    nextt=(i-1,j)\n",
    "                next_paths.append(nextt)\n",
    "\n",
    "    ## from East\n",
    "                if (i in range(0,7) and j+1>6) or(i==1 and j+1==1) or (i==1 and j+1==4) or(i==3 and j+1==1) or(i==3 and j+1==4):\n",
    "                    nextt=(i,j)\n",
    "                else:\n",
    "                    nextt=(i,j+1)\n",
    "                next_paths.append(nextt)\n",
    "\n",
    "    ## from South\n",
    "                if(i+1>5 and j in range(0,7)) or(i+1==1 and j==1)or(i+1==1 and j==4)or(i+1==3 and j==1)or(i+1==3 and j==4):\n",
    "                    nextt = (i,j)\n",
    "                else:\n",
    "                    nextt=(i+1,j)\n",
    "                next_paths.append(nextt)\n",
    "\n",
    "\n",
    "                ### get the target values\n",
    "                target_prob = []\n",
    "\n",
    "                ## from West\n",
    "                if (i in range (0,7) and j-1<0) or (i==1 and j-1==1)or(i==1 and j-1==4)or(i==3 and j-1==1)or(i==3 and j-1==4):\n",
    "                    target_prob.append(0.8)\n",
    "                else:\n",
    "                    target_prob.append(0)\n",
    "\n",
    "                ## from North\n",
    "                if (i in range(0,7)):\n",
    "                    target_prob.append(0.1)\n",
    "                # else:\n",
    "                #     target_prob.append(0)\n",
    "\n",
    "                ## from east\n",
    "                if (i in range(0,7) and j+1>6) or(i==1 and j+1 ==1) or(i==1 and j+1==4) or(i==3 and j+1==1) or(i==3 and j+1==4):\n",
    "                    target_prob.append(0)\n",
    "                else:\n",
    "                    target_prob.append(0.8)\n",
    "\n",
    "                ## from south\n",
    "                # or (i+1==3 and j==4) or (i+1==3 and j==1) or (i+1==1 and j==1) or (i+1==1 and j==4)\n",
    "                if(i in range(0,7)):\n",
    "                    target_prob.append(0.1)\n",
    "\n",
    "\n",
    "                #######print(next_paths)\n",
    "\n",
    "                #######print(target_prob)\n",
    "\n",
    "\n",
    "\n",
    "                Evidence_matrix[next_paths[0][0],next_paths[0][1]]\n",
    "                motion_prob_onecell = 0\n",
    "            for k in [0,1,2,3]:\n",
    "                motion_prob_onecell = ((motion_prob_onecell+ Evidence_matrix[next_paths[k][0],next_paths[k][1]] * target_prob[k]).round(3))\n",
    "            motion_prob_allcells.append(motion_prob_onecell.round(2))\n",
    "            #######print('motion_prob_onecell: ',motion_prob_onecell)\n",
    "            #######print('---------------------------------------------')\n",
    "\n",
    "    motion_prob = np.matrix(motion_prob_allcells).reshape(6,7)\n",
    "    start_matrix = motion_prob\n",
    "\n",
    "    # output = f\"{num:.9f}\"   (float(\"{:.8f}\".format(float(motion_prob_onecell))))\n",
    "    return start_matrix\n"
   ]
  },
  {
   "cell_type": "markdown",
   "metadata": {},
   "source": [
    "## Sensing: [0, 0, 0, 0]"
   ]
  },
  {
   "cell_type": "code",
   "execution_count": 14,
   "metadata": {},
   "outputs": [
    {
     "data": {
      "text/plain": [
       "matrix([[0.47, 0.47, 2.01, 2.01, 0.47, 2.01, 0.47],\n",
       "        [0.47, 0.  , 2.01, 2.01, 0.  , 2.01, 2.01],\n",
       "        [2.01, 0.47, 8.53, 8.53, 0.47, 8.53, 2.01],\n",
       "        [0.47, 0.  , 2.01, 2.01, 0.  , 2.01, 2.01],\n",
       "        [2.01, 2.01, 8.53, 8.53, 2.01, 8.53, 2.01],\n",
       "        [0.47, 2.01, 2.01, 2.01, 2.01, 2.01, 0.47]])"
      ]
     },
     "execution_count": 14,
     "metadata": {},
     "output_type": "execute_result"
    }
   ],
   "source": [
    "start_matrix = np.array([2.63,2.63,2.63,2.63,2.63,2.63,2.63,\n",
    "                           2.63,0 ,2.63,2.63,0 ,2.63,2.63,\n",
    "                           2.63,2.63,2.63,2.63,2.63,2.63,2.63,\n",
    "                           2.63,0 ,2.63,2.63,0 ,2.63,2.63,\n",
    "                           2.63,2.63,2.63,2.63,2.63,2.63,2.63,\n",
    "                           2.63,2.63,2.63,2.63,2.63,2.63,2.63]).reshape(6,7)\n",
    "sensor_evidence([0,0,0,0] )"
   ]
  },
  {
   "cell_type": "markdown",
   "metadata": {},
   "source": [
    "## Moving: N"
   ]
  },
  {
   "cell_type": "code",
   "execution_count": 15,
   "metadata": {},
   "outputs": [
    {
     "data": {
      "text/plain": [
       "matrix([[0.846, 0.624, 3.464, 3.464, 0.778, 3.31 , 2.232],\n",
       "        [1.702, 0.   , 7.226, 7.226, 0.   , 7.226, 2.01 ],\n",
       "        [0.624, 1.43 , 2.508, 2.508, 2.082, 1.856, 2.662],\n",
       "        [1.702, 0.   , 7.226, 7.226, 0.   , 7.226, 2.01 ],\n",
       "        [0.778, 4.27 , 2.662, 2.662, 4.922, 2.01 , 1.43 ],\n",
       "        [0.248, 0.248, 0.402, 0.402, 0.402, 0.248, 0.248]])"
      ]
     },
     "execution_count": 15,
     "metadata": {},
     "output_type": "execute_result"
    }
   ],
   "source": [
    "Evidence_matrix = sensor_evidence([0,0,0,0])\n",
    "start_matrix = moving_north([0,0,0,0])\n",
    "start_matrix"
   ]
  },
  {
   "cell_type": "markdown",
   "metadata": {},
   "source": [
    "## Sensing: [1, 0, 0, 0]"
   ]
  },
  {
   "cell_type": "code",
   "execution_count": 16,
   "metadata": {},
   "outputs": [
    {
     "data": {
      "text/plain": [
       "matrix([[5.500e-01, 2.000e-02, 4.200e-01, 4.200e-01, 2.000e-02,\n",
       "         4.100e-01, 6.000e-02],\n",
       "        [1.110e+00, 0.000e+00, 2.005e+01, 8.800e-01, 0.000e+00,\n",
       "         2.005e+01, 2.500e-01],\n",
       "        [1.730e+00, 4.000e-02, 1.310e+00, 1.310e+00, 6.000e-02,\n",
       "         9.700e-01, 3.300e-01],\n",
       "        [1.110e+00, 0.000e+00, 2.005e+01, 8.800e-01, 0.000e+00,\n",
       "         2.005e+01, 2.500e-01],\n",
       "        [2.160e+00, 5.200e-01, 1.390e+00, 1.390e+00, 6.000e-01,\n",
       "         1.050e+00, 1.800e-01],\n",
       "        [1.600e-01, 3.000e-02, 5.000e-02, 5.000e-02, 5.000e-02,\n",
       "         3.000e-02, 1.000e-02]])"
      ]
     },
     "execution_count": 16,
     "metadata": {},
     "output_type": "execute_result"
    }
   ],
   "source": [
    "start_matrix = moving_north([0,0,0,0])\n",
    "sensor_evidence([1,0,0,0] )"
   ]
  },
  {
   "cell_type": "markdown",
   "metadata": {},
   "source": [
    "## Moving: N"
   ]
  },
  {
   "cell_type": "code",
   "execution_count": 17,
   "metadata": {},
   "outputs": [
    {
     "data": {
      "text/plain": [
       "matrix([[1.3850e+00, 1.1300e-01, 1.6420e+01, 1.0840e+00, 9.9000e-02,\n",
       "         1.6376e+01, 2.9500e-01],\n",
       "        [1.6060e+00, 0.0000e+00, 3.1410e+00, 3.1410e+00, 0.0000e+00,\n",
       "         2.8060e+00, 2.2940e+00],\n",
       "        [1.0650e+00, 3.3600e-01, 1.6175e+01, 8.4100e-01, 2.7600e-01,\n",
       "         1.6079e+01, 3.3000e-01],\n",
       "        [1.9500e+00, 0.0000e+00, 3.2050e+00, 3.2050e+00, 0.0000e+00,\n",
       "         2.8700e+00, 2.1740e+00],\n",
       "        [3.9600e-01, 7.9500e-01, 2.3100e-01, 2.3900e-01, 7.6400e-01,\n",
       "         1.0200e-01, 1.3100e-01],\n",
       "        [1.9000e-02, 2.1000e-02, 8.0000e-03, 1.0000e-02, 8.0000e-03,\n",
       "         6.0000e-03, 4.0000e-03]])"
      ]
     },
     "execution_count": 17,
     "metadata": {},
     "output_type": "execute_result"
    }
   ],
   "source": [
    "Evidence_matrix = sensor_evidence([1,0,0,0])\n",
    "start_matrix = moving_north([1,0,0,0])\n",
    "start_matrix"
   ]
  },
  {
   "cell_type": "markdown",
   "metadata": {},
   "source": [
    "## Sensing: [0, 0, 0, 0]"
   ]
  },
  {
   "cell_type": "code",
   "execution_count": 18,
   "metadata": {},
   "outputs": [
    {
     "data": {
      "text/plain": [
       "matrix([[1.600e-01, 1.000e-02, 8.020e+00, 5.300e-01, 1.000e-02,\n",
       "         8.000e+00, 3.000e-02],\n",
       "        [1.800e-01, 0.000e+00, 1.530e+00, 1.530e+00, 0.000e+00,\n",
       "         1.370e+00, 1.120e+00],\n",
       "        [5.200e-01, 4.000e-02, 3.357e+01, 1.750e+00, 3.000e-02,\n",
       "         3.337e+01, 1.600e-01],\n",
       "        [2.200e-01, 0.000e+00, 1.570e+00, 1.570e+00, 0.000e+00,\n",
       "         1.400e+00, 1.060e+00],\n",
       "        [1.900e-01, 3.900e-01, 4.800e-01, 5.000e-01, 3.700e-01,\n",
       "         2.100e-01, 6.000e-02],\n",
       "        [0.000e+00, 1.000e-02, 0.000e+00, 0.000e+00, 0.000e+00,\n",
       "         0.000e+00, 0.000e+00]])"
      ]
     },
     "execution_count": 18,
     "metadata": {},
     "output_type": "execute_result"
    }
   ],
   "source": [
    "start_matrix = moving_north([1,0,0,0])\n",
    "sensor_evidence([0,0,0,0] )"
   ]
  },
  {
   "cell_type": "markdown",
   "metadata": {},
   "source": [
    "## Moving: W"
   ]
  },
  {
   "cell_type": "code",
   "execution_count": 19,
   "metadata": {},
   "outputs": [
    {
     "data": {
      "text/plain": [
       "matrix([[1.700e-01, 6.420e+00, 1.380e+00, 2.100e-01, 6.400e+00,\n",
       "         9.600e-01, 1.200e-01],\n",
       "        [2.100e-01, 0.000e+00, 6.610e+00, 2.300e-01, 0.000e+00,\n",
       "         6.130e+00, 2.000e-02],\n",
       "        [4.900e-01, 2.686e+01, 1.710e+00, 3.300e-01, 2.670e+01,\n",
       "         4.000e-01, 2.200e-01],\n",
       "        [2.500e-01, 0.000e+00, 5.920e+00, 2.200e-01, 0.000e+00,\n",
       "         5.330e+00, 2.000e-02],\n",
       "        [4.900e-01, 4.200e-01, 5.600e-01, 4.500e-01, 2.000e-01,\n",
       "         1.900e-01, 1.100e-01],\n",
       "        [3.000e-02, 4.000e-02, 5.000e-02, 5.000e-02, 4.000e-02,\n",
       "         2.000e-02, 1.000e-02]])"
      ]
     },
     "execution_count": 19,
     "metadata": {},
     "output_type": "execute_result"
    }
   ],
   "source": [
    "Evidence_matrix = sensor_evidence([0,0,0,0])\n",
    "start_matrix = moving_west([0,0,0,0])\n",
    "start_matrix\n"
   ]
  },
  {
   "cell_type": "markdown",
   "metadata": {},
   "source": [
    "## Sensing: [0, 1, 0, 1]"
   ]
  },
  {
   "cell_type": "code",
   "execution_count": 20,
   "metadata": {},
   "outputs": [
    {
     "data": {
      "text/plain": [
       "matrix([[1.000e-02, 9.530e+00, 3.800e-01, 6.000e-02, 9.500e+00,\n",
       "         2.700e-01, 1.000e-02],\n",
       "        [0.000e+00, 0.000e+00, 8.000e-02, 0.000e+00, 0.000e+00,\n",
       "         8.000e-02, 0.000e+00],\n",
       "        [1.000e-02, 3.987e+01, 9.000e-02, 2.000e-02, 3.963e+01,\n",
       "         2.000e-02, 0.000e+00],\n",
       "        [0.000e+00, 0.000e+00, 7.000e-02, 0.000e+00, 0.000e+00,\n",
       "         7.000e-02, 0.000e+00],\n",
       "        [1.000e-02, 1.200e-01, 3.000e-02, 2.000e-02, 6.000e-02,\n",
       "         1.000e-02, 0.000e+00],\n",
       "        [0.000e+00, 1.000e-02, 1.000e-02, 1.000e-02, 1.000e-02,\n",
       "         1.000e-02, 0.000e+00]])"
      ]
     },
     "execution_count": 20,
     "metadata": {},
     "output_type": "execute_result"
    }
   ],
   "source": [
    "start_matrix = moving_west([0,0,0,0])\n",
    "sensor_evidence([0,1,0,1] )"
   ]
  },
  {
   "cell_type": "markdown",
   "metadata": {},
   "source": [
    "## Sensing: [0, 1, 0, 1]"
   ]
  },
  {
   "cell_type": "code",
   "execution_count": 21,
   "metadata": {},
   "outputs": [
    {
     "data": {
      "text/plain": [
       "matrix([[7.63e+00, 2.21e+00, 9.00e-02, 7.61e+00, 2.12e+00, 4.00e-02,\n",
       "         0.00e+00],\n",
       "        [0.00e+00, 0.00e+00, 1.10e-01, 1.00e-02, 0.00e+00, 9.00e-02,\n",
       "         0.00e+00],\n",
       "        [3.19e+01, 8.05e+00, 3.00e-02, 3.17e+01, 7.94e+00, 2.00e-02,\n",
       "         0.00e+00],\n",
       "        [0.00e+00, 0.00e+00, 7.00e-02, 0.00e+00, 0.00e+00, 6.00e-02,\n",
       "         0.00e+00],\n",
       "        [1.00e-01, 4.00e-02, 2.00e-02, 5.00e-02, 2.00e-02, 1.00e-02,\n",
       "         0.00e+00],\n",
       "        [1.00e-02, 2.00e-02, 1.00e-02, 1.00e-02, 2.00e-02, 0.00e+00,\n",
       "         0.00e+00]])"
      ]
     },
     "execution_count": 21,
     "metadata": {},
     "output_type": "execute_result"
    }
   ],
   "source": [
    "Evidence_matrix = sensor_evidence([0,1,0,1])\n",
    "start_matrix = moving_west([0,1,0,1])\n",
    "start_matrix"
   ]
  },
  {
   "cell_type": "markdown",
   "metadata": {},
   "source": [
    "## Sensing: [1, 0, 0, 0]"
   ]
  },
  {
   "cell_type": "code",
   "execution_count": 22,
   "metadata": {},
   "outputs": [
    {
     "data": {
      "text/plain": [
       "matrix([[4.420e+00, 6.000e-02, 1.000e-02, 8.300e-01, 5.000e-02,\n",
       "         0.000e+00, 0.000e+00],\n",
       "        [0.000e+00, 0.000e+00, 2.700e-01, 0.000e+00, 0.000e+00,\n",
       "         2.200e-01, 0.000e+00],\n",
       "        [7.847e+01, 2.100e-01, 1.000e-02, 1.462e+01, 2.000e-01,\n",
       "         1.000e-02, 0.000e+00],\n",
       "        [0.000e+00, 0.000e+00, 1.700e-01, 0.000e+00, 0.000e+00,\n",
       "         1.500e-01, 0.000e+00],\n",
       "        [2.500e-01, 0.000e+00, 1.000e-02, 2.000e-02, 0.000e+00,\n",
       "         0.000e+00, 0.000e+00],\n",
       "        [1.000e-02, 0.000e+00, 0.000e+00, 0.000e+00, 0.000e+00,\n",
       "         0.000e+00, 0.000e+00]])"
      ]
     },
     "execution_count": 22,
     "metadata": {},
     "output_type": "execute_result"
    }
   ],
   "source": [
    "start_matrix = moving_west([0,1,0,1])\n",
    "sensor_evidence([1,0,0,0] )"
   ]
  },
  {
   "cell_type": "code",
   "execution_count": null,
   "metadata": {},
   "outputs": [],
   "source": []
  },
  {
   "cell_type": "code",
   "execution_count": null,
   "metadata": {},
   "outputs": [],
   "source": []
  },
  {
   "cell_type": "code",
   "execution_count": null,
   "metadata": {},
   "outputs": [],
   "source": []
  }
 ],
 "metadata": {
  "kernelspec": {
   "display_name": "Python 3",
   "language": "python",
   "name": "python3"
  },
  "language_info": {
   "codemirror_mode": {
    "name": "ipython",
    "version": 3
   },
   "file_extension": ".py",
   "mimetype": "text/x-python",
   "name": "python",
   "nbconvert_exporter": "python",
   "pygments_lexer": "ipython3",
   "version": "3.8.5"
  }
 },
 "nbformat": 4,
 "nbformat_minor": 4
}
